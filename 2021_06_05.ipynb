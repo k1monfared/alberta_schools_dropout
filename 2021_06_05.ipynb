{
 "cells": [
  {
   "cell_type": "markdown",
   "id": "affiliated-bracelet",
   "metadata": {},
   "source": [
    "# Question: Is there a meaningful drop-out rate at any grade and if so, are there any indicators for it?\n",
    "\n",
    "Concrete questions:\n",
    "\n",
    "\t1- What is the percentage of dropout rates per municipality?\n",
    "\t2- Is it related to the class sizes?\n",
    "\t3- Is it related to income level?\n",
    "\t4- Do we have data to relate this to facility conditions?"
   ]
  },
  {
   "cell_type": "code",
   "execution_count": 1,
   "id": "variable-tribe",
   "metadata": {},
   "outputs": [],
   "source": [
    "import pandas as pd\n",
    "import numpy as np\n",
    "import matplotlib.pyplot as plt"
   ]
  },
  {
   "cell_type": "markdown",
   "id": "abstract-handle",
   "metadata": {},
   "source": [
    "# Load data"
   ]
  },
  {
   "cell_type": "markdown",
   "id": "coated-savannah",
   "metadata": {},
   "source": [
    "Data Sources:\n",
    "https://open.alberta.ca/opendata/alberta-school-and-school-authority-student-population"
   ]
  },
  {
   "cell_type": "code",
   "execution_count": 33,
   "id": "breeding-darkness",
   "metadata": {},
   "outputs": [],
   "source": [
    "authority_student_population = pd.read_csv('alberta-school-authority-student-population-data.csv')\n",
    "student_population = pd.read_csv('alberta-school-student-population-data.csv')"
   ]
  },
  {
   "cell_type": "markdown",
   "id": "accepted-termination",
   "metadata": {},
   "source": [
    "# Do schools change their authority?"
   ]
  },
  {
   "cell_type": "code",
   "execution_count": 51,
   "id": "found-basics",
   "metadata": {},
   "outputs": [],
   "source": [
    "# Clean up the school year name to numeric values\n",
    "student_population['year'] = student_population['School Year Name']\\\n",
    ".apply(lambda x: x.split('/')[0] if type(x) == str else np.nan)\\\n",
    ".apply(lambda x: int(x) if type(x) == str and len(x) == 4 else np.nan)\n",
    "\n",
    "# Get the previous years school authority for each school\n",
    "student_population['Prev School Authority Code'] = student_population\\\n",
    ".sort_values('year', ascending = True)\\\n",
    ".groupby('School Code')['School Authority Code'].shift(1)\n",
    "\n",
    "# Keep only the rows that previous year's district is different than this year's\n",
    "distcit_change = student_population[\n",
    "    (student_population['Prev School Authority Code'] != student_population['School Authority Code']) &\n",
    "    (~student_population['Prev School Authority Code'].isna())\n",
    "]"
   ]
  },
  {
   "cell_type": "code",
   "execution_count": 111,
   "id": "considered-ceiling",
   "metadata": {
    "scrolled": true
   },
   "outputs": [
    {
     "data": {
      "text/html": [
       "<div>\n",
       "<style scoped>\n",
       "    .dataframe tbody tr th:only-of-type {\n",
       "        vertical-align: middle;\n",
       "    }\n",
       "\n",
       "    .dataframe tbody tr th {\n",
       "        vertical-align: top;\n",
       "    }\n",
       "\n",
       "    .dataframe thead th {\n",
       "        text-align: right;\n",
       "    }\n",
       "</style>\n",
       "<table border=\"1\" class=\"dataframe\">\n",
       "  <thead>\n",
       "    <tr style=\"text-align: right;\">\n",
       "      <th></th>\n",
       "      <th>year</th>\n",
       "      <th>Schools that changed district</th>\n",
       "      <th>total number of schools</th>\n",
       "    </tr>\n",
       "  </thead>\n",
       "  <tbody>\n",
       "    <tr>\n",
       "      <th>0</th>\n",
       "      <td>1996.0</td>\n",
       "      <td>4</td>\n",
       "      <td>2047</td>\n",
       "    </tr>\n",
       "    <tr>\n",
       "      <th>1</th>\n",
       "      <td>1997.0</td>\n",
       "      <td>122</td>\n",
       "      <td>2050</td>\n",
       "    </tr>\n",
       "    <tr>\n",
       "      <th>2</th>\n",
       "      <td>1998.0</td>\n",
       "      <td>144</td>\n",
       "      <td>2018</td>\n",
       "    </tr>\n",
       "    <tr>\n",
       "      <th>3</th>\n",
       "      <td>1999.0</td>\n",
       "      <td>12</td>\n",
       "      <td>2039</td>\n",
       "    </tr>\n",
       "    <tr>\n",
       "      <th>4</th>\n",
       "      <td>2000.0</td>\n",
       "      <td>6</td>\n",
       "      <td>2050</td>\n",
       "    </tr>\n",
       "    <tr>\n",
       "      <th>5</th>\n",
       "      <td>2001.0</td>\n",
       "      <td>96</td>\n",
       "      <td>2067</td>\n",
       "    </tr>\n",
       "    <tr>\n",
       "      <th>6</th>\n",
       "      <td>2002.0</td>\n",
       "      <td>2</td>\n",
       "      <td>2067</td>\n",
       "    </tr>\n",
       "    <tr>\n",
       "      <th>7</th>\n",
       "      <td>2003.0</td>\n",
       "      <td>2</td>\n",
       "      <td>2071</td>\n",
       "    </tr>\n",
       "    <tr>\n",
       "      <th>8</th>\n",
       "      <td>2004.0</td>\n",
       "      <td>3</td>\n",
       "      <td>2098</td>\n",
       "    </tr>\n",
       "    <tr>\n",
       "      <th>9</th>\n",
       "      <td>2005.0</td>\n",
       "      <td>54</td>\n",
       "      <td>2095</td>\n",
       "    </tr>\n",
       "    <tr>\n",
       "      <th>10</th>\n",
       "      <td>2006.0</td>\n",
       "      <td>26</td>\n",
       "      <td>2100</td>\n",
       "    </tr>\n",
       "    <tr>\n",
       "      <th>11</th>\n",
       "      <td>2007.0</td>\n",
       "      <td>2</td>\n",
       "      <td>2107</td>\n",
       "    </tr>\n",
       "    <tr>\n",
       "      <th>12</th>\n",
       "      <td>2008.0</td>\n",
       "      <td>5</td>\n",
       "      <td>2107</td>\n",
       "    </tr>\n",
       "    <tr>\n",
       "      <th>13</th>\n",
       "      <td>2009.0</td>\n",
       "      <td>3</td>\n",
       "      <td>2102</td>\n",
       "    </tr>\n",
       "    <tr>\n",
       "      <th>14</th>\n",
       "      <td>2010.0</td>\n",
       "      <td>2</td>\n",
       "      <td>2131</td>\n",
       "    </tr>\n",
       "    <tr>\n",
       "      <th>15</th>\n",
       "      <td>2011.0</td>\n",
       "      <td>2</td>\n",
       "      <td>2143</td>\n",
       "    </tr>\n",
       "    <tr>\n",
       "      <th>16</th>\n",
       "      <td>2012.0</td>\n",
       "      <td>6</td>\n",
       "      <td>2160</td>\n",
       "    </tr>\n",
       "    <tr>\n",
       "      <th>17</th>\n",
       "      <td>2013.0</td>\n",
       "      <td>15</td>\n",
       "      <td>2160</td>\n",
       "    </tr>\n",
       "    <tr>\n",
       "      <th>18</th>\n",
       "      <td>2014.0</td>\n",
       "      <td>7</td>\n",
       "      <td>2169</td>\n",
       "    </tr>\n",
       "    <tr>\n",
       "      <th>19</th>\n",
       "      <td>2015.0</td>\n",
       "      <td>5</td>\n",
       "      <td>2188</td>\n",
       "    </tr>\n",
       "    <tr>\n",
       "      <th>20</th>\n",
       "      <td>2016.0</td>\n",
       "      <td>1</td>\n",
       "      <td>2225</td>\n",
       "    </tr>\n",
       "  </tbody>\n",
       "</table>\n",
       "</div>"
      ],
      "text/plain": [
       "      year  Schools that changed district  total number of schools\n",
       "0   1996.0                              4                     2047\n",
       "1   1997.0                            122                     2050\n",
       "2   1998.0                            144                     2018\n",
       "3   1999.0                             12                     2039\n",
       "4   2000.0                              6                     2050\n",
       "5   2001.0                             96                     2067\n",
       "6   2002.0                              2                     2067\n",
       "7   2003.0                              2                     2071\n",
       "8   2004.0                              3                     2098\n",
       "9   2005.0                             54                     2095\n",
       "10  2006.0                             26                     2100\n",
       "11  2007.0                              2                     2107\n",
       "12  2008.0                              5                     2107\n",
       "13  2009.0                              3                     2102\n",
       "14  2010.0                              2                     2131\n",
       "15  2011.0                              2                     2143\n",
       "16  2012.0                              6                     2160\n",
       "17  2013.0                             15                     2160\n",
       "18  2014.0                              7                     2169\n",
       "19  2015.0                              5                     2188\n",
       "20  2016.0                              1                     2225"
      ]
     },
     "execution_count": 111,
     "metadata": {},
     "output_type": "execute_result"
    }
   ],
   "source": [
    "# Number of schools that changed their district each year\n",
    "temp1 = distcit_change.groupby('year')\\\n",
    ".count()['School Code']\\\n",
    ".reset_index().rename(columns = {'School Code': 'Schools that changed district'})\n",
    "\n",
    "# Total number of schools each year\n",
    "temp2 = student_population.groupby('year')\\\n",
    ".agg({'School Code': 'nunique'})\\\n",
    ".reset_index().rename(columns = {'School Code': 'total number of schools'})\n",
    "\n",
    "# Number of schools that changed their authorithy each year compared to the total number of schools that year\n",
    "num_changed = pd.merge(\n",
    "    temp1,\n",
    "    temp2,\n",
    "    how = 'inner',\n",
    "    on = 'year'\n",
    ")\n",
    "num_changed"
   ]
  },
  {
   "cell_type": "code",
   "execution_count": 261,
   "id": "robust-wrapping",
   "metadata": {},
   "outputs": [
    {
     "data": {
      "image/png": "[encoded data removed]",
      "text/plain": [
       "<Figure size 1080x720 with 3 Axes>"
      ]
     },
     "metadata": {
      "needs_background": "light"
     },
     "output_type": "display_data"
    }
   ],
   "source": [
    "plt.figure(figsize=[15,10])\n",
    "plt.subplots_adjust(hspace = .5)\n",
    "plt.subplot(3,1,1)\n",
    "plt.plot(\n",
    "    num_changed['year'],\n",
    "    num_changed['Schools that changed district']\n",
    ")\n",
    "plt.title('Number of schools that changed their authority each year')\n",
    "plt.xticks(num_changed['year'][::5])\n",
    "plt.ylim(bottom = 0)\n",
    "\n",
    "plt.subplot(3,1,2)\n",
    "plt.plot(\n",
    "    num_changed['year'],\n",
    "    num_changed['total number of schools']\n",
    ")\n",
    "plt.title('Total number of schools each year')\n",
    "plt.xticks(num_changed['year'][::5])\n",
    "plt.ylim(bottom = 0)\n",
    "\n",
    "\n",
    "plt.subplot(3,1,3)\n",
    "plt.plot(\n",
    "    num_changed['year'],\n",
    "    100 * num_changed['Schools that changed district']/ num_changed['total number of schools']\n",
    ")\n",
    "plt.xlabel('year')\n",
    "plt.title('Percentage of schools that changed their authority each year')\n",
    "plt.xticks(num_changed['year'][::5])\n",
    "plt.ylim(bottom = 0)\n",
    "\n",
    "\n",
    "plt.show()"
   ]
  },
  {
   "cell_type": "code",
   "execution_count": 268,
   "id": "ranking-performance",
   "metadata": {},
   "outputs": [
    {
     "data": {
      "text/plain": [
       "0.4201810361584818"
      ]
     },
     "execution_count": 268,
     "metadata": {},
     "output_type": "execute_result"
    }
   ],
   "source": [
    "# average rate of change in total number of schools per year\n",
    "100 * np.mean(((num_changed['total number of schools'] / num_changed['total number of schools'].shift(1)) - 1).dropna())"
   ]
  },
  {
   "cell_type": "markdown",
   "id": "confirmed-papua",
   "metadata": {},
   "source": [
    "##### results: \n",
    "\n",
    "- Schools do change districts but it is negligible compared to the total number of schools and this is happening less and less\n",
    "- Total number of schools is increasing over time slowly. (0.4% yearly increase) "
   ]
  },
  {
   "cell_type": "markdown",
   "id": "generic-italian",
   "metadata": {},
   "source": [
    "# Load yearly data"
   ]
  },
  {
   "cell_type": "markdown",
   "id": "dedicated-transcript",
   "metadata": {},
   "source": [
    "Data Source: https://open.alberta.ca/opendata/class-size-by-school-year-jurisdiction-and-grade-alberta"
   ]
  },
  {
   "cell_type": "code",
   "execution_count": 109,
   "id": "furnished-batch",
   "metadata": {},
   "outputs": [],
   "source": [
    "# # combine data\n",
    "# class_sizes = pd.DataFrame()\n",
    "# for year in range(2004, 2019):\n",
    "#      class_sizes = class_sizes.append(pd.read_csv('csis_{}.csv'.format(year)), ignore_index = True)\n",
    "# class_sizes.to_csv('csis_2004_2018.csv', index = False)\n",
    "class_sizes = pd.read_csv('csis_2004_2018.csv')"
   ]
  },
  {
   "cell_type": "code",
   "execution_count": 269,
   "id": "attempted-darwin",
   "metadata": {},
   "outputs": [
    {
     "data": {
      "text/plain": [
       "(26, 28)"
      ]
     },
     "execution_count": 269,
     "metadata": {},
     "output_type": "execute_result"
    }
   ],
   "source": [
    "# Some subject id's have more than 1 subject name\n",
    "class_sizes.subject_id.nunique(), class_sizes.subject_nm.nunique()"
   ]
  },
  {
   "cell_type": "code",
   "execution_count": 279,
   "id": "hired-madagascar",
   "metadata": {},
   "outputs": [
    {
     "name": "stdout",
     "output_type": "stream",
     "text": [
      "subject id '1' represents:\n",
      "\t['English/French Language Arts', 'Language Arts English/French']\n",
      "subject id '21' represents:\n",
      "\t['Knowledge and Employability', 'Integrated Occupational Program']\n"
     ]
    }
   ],
   "source": [
    "subjects = pd.DataFrame(class_sizes.groupby('subject_id')['subject_nm'].apply(lambda x: list(set(x)))).reset_index()\n",
    "msubj = subjects[subjects['subject_nm'].apply(lambda x: len(x)) > 1]\n",
    "for _, row in msubj.iterrows():\n",
    "    print(\"subject id '{}' represents:\\n\\t{}\".format(row.subject_id, row.subject_nm))"
   ]
  },
  {
   "cell_type": "code",
   "execution_count": 280,
   "id": "annoying-empire",
   "metadata": {},
   "outputs": [
    {
     "data": {
      "text/plain": [
       "array([1, 2, 3, 4])"
      ]
     },
     "execution_count": 280,
     "metadata": {},
     "output_type": "execute_result"
    }
   ],
   "source": [
    "# GradeGroup_id seems to be well defined and consistent across all\n",
    "class_sizes.GradeGroup_id.unique()"
   ]
  },
  {
   "cell_type": "code",
   "execution_count": 281,
   "id": "guided-album",
   "metadata": {},
   "outputs": [
    {
     "data": {
      "text/plain": [
       "0"
      ]
     },
     "execution_count": 281,
     "metadata": {},
     "output_type": "execute_result"
    }
   ],
   "source": [
    "# csiz_id seems to be a reporting id, each row has a unique value\n",
    "class_sizes.shape[0] - class_sizes.csiz_id.nunique()"
   ]
  },
  {
   "cell_type": "code",
   "execution_count": 282,
   "id": "social-supplier",
   "metadata": {},
   "outputs": [
    {
     "data": {
      "text/plain": [
       "1700"
      ]
     },
     "execution_count": 282,
     "metadata": {},
     "output_type": "execute_result"
    }
   ],
   "source": [
    "# No idea what sch_cd is\n",
    "class_sizes.sch_cd.nunique()"
   ]
  },
  {
   "cell_type": "code",
   "execution_count": 283,
   "id": "mexican-fitness",
   "metadata": {},
   "outputs": [
    {
     "data": {
      "text/plain": [
       "['/10/11',\n",
       " '/8/9/10/11/12',\n",
       " '/9/10/11/12',\n",
       " '0',\n",
       " '0/1/2',\n",
       " '0/1/2/4/5',\n",
       " '001',\n",
       " '001/02',\n",
       " '002',\n",
       " '003',\n",
       " '003/02',\n",
       " '007/08/09',\n",
       " '01',\n",
       " '01//02',\n",
       " '01/01',\n",
       " '01/02',\n",
       " '01/02/03',\n",
       " '01/02/03/',\n",
       " '01/02/03/04',\n",
       " '01/02/03/04/']"
      ]
     },
     "execution_count": 283,
     "metadata": {},
     "output_type": "execute_result"
    }
   ],
   "source": [
    "# It seems like 'Grade' is not very well defined in this data set\n",
    "# here are a few values\n",
    "sorted(class_sizes.grade.unique())[:20]"
   ]
  },
  {
   "cell_type": "markdown",
   "id": "reserved-firmware",
   "metadata": {},
   "source": [
    "# Is there a significant drop out rate?"
   ]
  },
  {
   "cell_type": "code",
   "execution_count": 166,
   "id": "unauthorized-practitioner",
   "metadata": {},
   "outputs": [],
   "source": [
    "# clean up the data\n",
    "# student_population.fillna(0, inplace = True)\n",
    "# student_population.drop([46148, 46149, 46150], inplace = True)"
   ]
  },
  {
   "cell_type": "code",
   "execution_count": 171,
   "id": "peripheral-salon",
   "metadata": {},
   "outputs": [],
   "source": [
    "# add up all the students for each year and grade\n",
    "yearly_pop = student_population[['year'] + ['Grade {}'.format(i) for i in range(1,13)]]\\\n",
    ".groupby('year')\\\n",
    ".agg({'Grade {}'.format(i): 'sum' for i in range(1,13)}).reset_index()"
   ]
  },
  {
   "cell_type": "code",
   "execution_count": 189,
   "id": "dependent-poker",
   "metadata": {},
   "outputs": [],
   "source": [
    "# Calculate the change in each year's grade to NEXT year's NEXT grade\n",
    "for i in range(1,12):\n",
    "    yearly_pop['drop_{}'.format(i)] = yearly_pop['Grade {}'.format(i+1)].shift(-1) - yearly_pop['Grade {}'.format(i)]"
   ]
  },
  {
   "cell_type": "code",
   "execution_count": 193,
   "id": "pharmaceutical-science",
   "metadata": {},
   "outputs": [
    {
     "data": {
      "text/html": [
       "<div>\n",
       "<style scoped>\n",
       "    .dataframe tbody tr th:only-of-type {\n",
       "        vertical-align: middle;\n",
       "    }\n",
       "\n",
       "    .dataframe tbody tr th {\n",
       "        vertical-align: top;\n",
       "    }\n",
       "\n",
       "    .dataframe thead th {\n",
       "        text-align: right;\n",
       "    }\n",
       "</style>\n",
       "<table border=\"1\" class=\"dataframe\">\n",
       "  <thead>\n",
       "    <tr style=\"text-align: right;\">\n",
       "      <th></th>\n",
       "      <th>year</th>\n",
       "      <th>Grade 1</th>\n",
       "      <th>Grade 2</th>\n",
       "      <th>Grade 3</th>\n",
       "      <th>Grade 4</th>\n",
       "      <th>Grade 5</th>\n",
       "      <th>Grade 6</th>\n",
       "      <th>Grade 7</th>\n",
       "      <th>Grade 8</th>\n",
       "      <th>Grade 9</th>\n",
       "      <th>Grade 10</th>\n",
       "      <th>Grade 11</th>\n",
       "    </tr>\n",
       "  </thead>\n",
       "  <tbody>\n",
       "    <tr>\n",
       "      <th>0</th>\n",
       "      <td>1995.0</td>\n",
       "      <td>43799.0</td>\n",
       "      <td>42167.0</td>\n",
       "      <td>41212.0</td>\n",
       "      <td>42207.0</td>\n",
       "      <td>42675.0</td>\n",
       "      <td>42745.0</td>\n",
       "      <td>42804.0</td>\n",
       "      <td>41316.0</td>\n",
       "      <td>39656.0</td>\n",
       "      <td>42039.0</td>\n",
       "      <td>37853.0</td>\n",
       "    </tr>\n",
       "    <tr>\n",
       "      <th>1</th>\n",
       "      <td>1996.0</td>\n",
       "      <td>43825.0</td>\n",
       "      <td>42705.0</td>\n",
       "      <td>42149.0</td>\n",
       "      <td>41469.0</td>\n",
       "      <td>42463.0</td>\n",
       "      <td>42912.0</td>\n",
       "      <td>43102.0</td>\n",
       "      <td>43075.0</td>\n",
       "      <td>41097.0</td>\n",
       "      <td>44004.0</td>\n",
       "      <td>40471.0</td>\n",
       "    </tr>\n",
       "    <tr>\n",
       "      <th>2</th>\n",
       "      <td>1997.0</td>\n",
       "      <td>43394.0</td>\n",
       "      <td>43048.0</td>\n",
       "      <td>42873.0</td>\n",
       "      <td>42667.0</td>\n",
       "      <td>42000.0</td>\n",
       "      <td>42972.0</td>\n",
       "      <td>43898.0</td>\n",
       "      <td>43724.0</td>\n",
       "      <td>43185.0</td>\n",
       "      <td>45572.0</td>\n",
       "      <td>41554.0</td>\n",
       "    </tr>\n",
       "    <tr>\n",
       "      <th>3</th>\n",
       "      <td>1998.0</td>\n",
       "      <td>43290.0</td>\n",
       "      <td>42948.0</td>\n",
       "      <td>43355.0</td>\n",
       "      <td>43484.0</td>\n",
       "      <td>43358.0</td>\n",
       "      <td>42572.0</td>\n",
       "      <td>43993.0</td>\n",
       "      <td>44360.0</td>\n",
       "      <td>43730.0</td>\n",
       "      <td>47229.0</td>\n",
       "      <td>43410.0</td>\n",
       "    </tr>\n",
       "    <tr>\n",
       "      <th>4</th>\n",
       "      <td>1999.0</td>\n",
       "      <td>42288.0</td>\n",
       "      <td>42530.0</td>\n",
       "      <td>42958.0</td>\n",
       "      <td>43743.0</td>\n",
       "      <td>43916.0</td>\n",
       "      <td>43593.0</td>\n",
       "      <td>43198.0</td>\n",
       "      <td>44381.0</td>\n",
       "      <td>44341.0</td>\n",
       "      <td>47957.0</td>\n",
       "      <td>45478.0</td>\n",
       "    </tr>\n",
       "  </tbody>\n",
       "</table>\n",
       "</div>"
      ],
      "text/plain": [
       "     year  Grade 1  Grade 2  Grade 3  Grade 4  Grade 5  Grade 6  Grade 7  \\\n",
       "0  1995.0  43799.0  42167.0  41212.0  42207.0  42675.0  42745.0  42804.0   \n",
       "1  1996.0  43825.0  42705.0  42149.0  41469.0  42463.0  42912.0  43102.0   \n",
       "2  1997.0  43394.0  43048.0  42873.0  42667.0  42000.0  42972.0  43898.0   \n",
       "3  1998.0  43290.0  42948.0  43355.0  43484.0  43358.0  42572.0  43993.0   \n",
       "4  1999.0  42288.0  42530.0  42958.0  43743.0  43916.0  43593.0  43198.0   \n",
       "\n",
       "   Grade 8  Grade 9  Grade 10  Grade 11  \n",
       "0  41316.0  39656.0   42039.0   37853.0  \n",
       "1  43075.0  41097.0   44004.0   40471.0  \n",
       "2  43724.0  43185.0   45572.0   41554.0  \n",
       "3  44360.0  43730.0   47229.0   43410.0  \n",
       "4  44381.0  44341.0   47957.0   45478.0  "
      ]
     },
     "execution_count": 193,
     "metadata": {},
     "output_type": "execute_result"
    }
   ],
   "source": [
    "# This is what the population looks like\n",
    "yearly_pop[['year'] + ['Grade {}'.format(i) for i in range(1,12)]].head()"
   ]
  },
  {
   "cell_type": "code",
   "execution_count": 194,
   "id": "compact-handle",
   "metadata": {},
   "outputs": [
    {
     "data": {
      "text/html": [
       "<div>\n",
       "<style scoped>\n",
       "    .dataframe tbody tr th:only-of-type {\n",
       "        vertical-align: middle;\n",
       "    }\n",
       "\n",
       "    .dataframe tbody tr th {\n",
       "        vertical-align: top;\n",
       "    }\n",
       "\n",
       "    .dataframe thead th {\n",
       "        text-align: right;\n",
       "    }\n",
       "</style>\n",
       "<table border=\"1\" class=\"dataframe\">\n",
       "  <thead>\n",
       "    <tr style=\"text-align: right;\">\n",
       "      <th></th>\n",
       "      <th>year</th>\n",
       "      <th>drop_1</th>\n",
       "      <th>drop_2</th>\n",
       "      <th>drop_3</th>\n",
       "      <th>drop_4</th>\n",
       "      <th>drop_5</th>\n",
       "      <th>drop_6</th>\n",
       "      <th>drop_7</th>\n",
       "      <th>drop_8</th>\n",
       "      <th>drop_9</th>\n",
       "      <th>drop_10</th>\n",
       "      <th>drop_11</th>\n",
       "    </tr>\n",
       "  </thead>\n",
       "  <tbody>\n",
       "    <tr>\n",
       "      <th>0</th>\n",
       "      <td>1995.0</td>\n",
       "      <td>-1094.0</td>\n",
       "      <td>-18.0</td>\n",
       "      <td>257.0</td>\n",
       "      <td>256.0</td>\n",
       "      <td>237.0</td>\n",
       "      <td>357.0</td>\n",
       "      <td>271.0</td>\n",
       "      <td>-219.0</td>\n",
       "      <td>4348.0</td>\n",
       "      <td>-1568.0</td>\n",
       "      <td>9062.0</td>\n",
       "    </tr>\n",
       "    <tr>\n",
       "      <th>1</th>\n",
       "      <td>1996.0</td>\n",
       "      <td>-777.0</td>\n",
       "      <td>168.0</td>\n",
       "      <td>518.0</td>\n",
       "      <td>531.0</td>\n",
       "      <td>509.0</td>\n",
       "      <td>986.0</td>\n",
       "      <td>622.0</td>\n",
       "      <td>110.0</td>\n",
       "      <td>4475.0</td>\n",
       "      <td>-2450.0</td>\n",
       "      <td>8043.0</td>\n",
       "    </tr>\n",
       "    <tr>\n",
       "      <th>2</th>\n",
       "      <td>1997.0</td>\n",
       "      <td>-446.0</td>\n",
       "      <td>307.0</td>\n",
       "      <td>611.0</td>\n",
       "      <td>691.0</td>\n",
       "      <td>572.0</td>\n",
       "      <td>1021.0</td>\n",
       "      <td>462.0</td>\n",
       "      <td>6.0</td>\n",
       "      <td>4044.0</td>\n",
       "      <td>-2162.0</td>\n",
       "      <td>8879.0</td>\n",
       "    </tr>\n",
       "    <tr>\n",
       "      <th>3</th>\n",
       "      <td>1998.0</td>\n",
       "      <td>-760.0</td>\n",
       "      <td>10.0</td>\n",
       "      <td>388.0</td>\n",
       "      <td>432.0</td>\n",
       "      <td>235.0</td>\n",
       "      <td>626.0</td>\n",
       "      <td>388.0</td>\n",
       "      <td>-19.0</td>\n",
       "      <td>4227.0</td>\n",
       "      <td>-1751.0</td>\n",
       "      <td>9368.0</td>\n",
       "    </tr>\n",
       "    <tr>\n",
       "      <th>4</th>\n",
       "      <td>1999.0</td>\n",
       "      <td>-715.0</td>\n",
       "      <td>155.0</td>\n",
       "      <td>429.0</td>\n",
       "      <td>455.0</td>\n",
       "      <td>352.0</td>\n",
       "      <td>528.0</td>\n",
       "      <td>423.0</td>\n",
       "      <td>-229.0</td>\n",
       "      <td>3322.0</td>\n",
       "      <td>-1754.0</td>\n",
       "      <td>11054.0</td>\n",
       "    </tr>\n",
       "  </tbody>\n",
       "</table>\n",
       "</div>"
      ],
      "text/plain": [
       "     year  drop_1  drop_2  drop_3  drop_4  drop_5  drop_6  drop_7  drop_8  \\\n",
       "0  1995.0 -1094.0   -18.0   257.0   256.0   237.0   357.0   271.0  -219.0   \n",
       "1  1996.0  -777.0   168.0   518.0   531.0   509.0   986.0   622.0   110.0   \n",
       "2  1997.0  -446.0   307.0   611.0   691.0   572.0  1021.0   462.0     6.0   \n",
       "3  1998.0  -760.0    10.0   388.0   432.0   235.0   626.0   388.0   -19.0   \n",
       "4  1999.0  -715.0   155.0   429.0   455.0   352.0   528.0   423.0  -229.0   \n",
       "\n",
       "   drop_9  drop_10  drop_11  \n",
       "0  4348.0  -1568.0   9062.0  \n",
       "1  4475.0  -2450.0   8043.0  \n",
       "2  4044.0  -2162.0   8879.0  \n",
       "3  4227.0  -1751.0   9368.0  \n",
       "4  3322.0  -1754.0  11054.0  "
      ]
     },
     "execution_count": 194,
     "metadata": {},
     "output_type": "execute_result"
    }
   ],
   "source": [
    "# This is what the change in population looks like\n",
    "yearly_pop[['year'] + ['drop_{}'.format(i) for i in range(1,12)]].head()"
   ]
  },
  {
   "cell_type": "markdown",
   "id": "facial-juice",
   "metadata": {},
   "source": [
    "For example, from 44K students enrolled in grade 1 in 1995, 43K made it to grade 2 in year 1996. That's a drop rate of 1K for gradr 1 of 1995. Approximately -2%."
   ]
  },
  {
   "cell_type": "code",
   "execution_count": 284,
   "id": "secondary-mailing",
   "metadata": {},
   "outputs": [
    {
     "data": {
      "image/png": "[encoded data removed]",
      "text/plain": [
       "<Figure size 432x288 with 1 Axes>"
      ]
     },
     "metadata": {
      "needs_background": "light"
     },
     "output_type": "display_data"
    },
    {
     "data": {
      "image/png": "[encoded data removed]",
      "text/plain": [
       "<Figure size 432x288 with 1 Axes>"
      ]
     },
     "metadata": {
      "needs_background": "light"
     },
     "output_type": "display_data"
    }
   ],
   "source": [
    "for i in range(1,8):\n",
    "    plt.plot(\n",
    "        yearly_pop.year.astype('int32'),\n",
    "        100 * yearly_pop['drop_{}'.format(i)] / yearly_pop['Grade {}'.format(i)],\n",
    "        label = i\n",
    "    )\n",
    "plt.axhline(0, color = 'r')\n",
    "plt.xticks(yearly_pop.year[::5])\n",
    "plt.legend(bbox_to_anchor = [1,1], loc = 'upper left')\n",
    "plt.title('Enrollment change')\n",
    "plt.ylabel('Percentage of student population size change')\n",
    "\n",
    "plt.show()\n",
    "\n",
    "for i in range(8,12):\n",
    "    plt.plot(\n",
    "        yearly_pop.year.astype('int32'),\n",
    "        100 * yearly_pop['drop_{}'.format(i)] / yearly_pop['Grade {}'.format(i)],\n",
    "        label = i\n",
    "    )\n",
    "plt.axhline(0, color = 'r')\n",
    "plt.xticks(yearly_pop.year[::5])\n",
    "plt.ylabel('Percentage of student population size change')\n",
    "\n",
    "plt.legend(bbox_to_anchor = [1,1], loc = 'upper left')\n",
    "plt.show()"
   ]
  },
  {
   "cell_type": "code",
   "execution_count": 285,
   "id": "governing-vacation",
   "metadata": {},
   "outputs": [
    {
     "data": {
      "image/png": "[encoded data removed]",
      "text/plain": [
       "<Figure size 1080x360 with 1 Axes>"
      ]
     },
     "metadata": {
      "needs_background": "light"
     },
     "output_type": "display_data"
    }
   ],
   "source": [
    "plt.figure(figsize=[15,5])\n",
    "for j in range(1,12):\n",
    "    y = yearly_pop['drop_{}'.format(j)] / yearly_pop['Grade {}'.format(j)]\n",
    "    y.dropna(inplace = True)\n",
    "    plt.boxplot(\n",
    "        100 * y,\n",
    "        positions = [j],\n",
    "        showfliers = False,\n",
    "        widths = .6\n",
    "    )\n",
    "plt.axhline(0, color = 'r', linestyle = '--')\n",
    "plt.title('Enrollment change')\n",
    "plt.xlabel('Grade')\n",
    "plt.ylabel('Percentage of student population size change')\n",
    "plt.gca().get_yaxis().grid()\n",
    "plt.show()"
   ]
  },
  {
   "cell_type": "markdown",
   "id": "comparable-copying",
   "metadata": {},
   "source": [
    "#### Results:\n",
    "- Seems like the enrollment change is not just because of students dropping out, it probably also relates to students repeating the same grade resulting in a positive change in numbers.\n",
    "\n",
    "#### Next:\n",
    "- Still same questions as above can be asked, but the interpretation now will have to change, relating municipality to the change in enrollment relating to both repating a grade and dropping out. Not sure what conclusions can come out of it though.\n",
    "- To understand the existense and reason for dropout rate, we have to look at the other data sets, ideally per student, but it is highly unlikely to obtain that data set for privacy reasons.\n",
    "- 2005 and 2011-12 see an influx of students across all grades, what is the cause of these?\n",
    "- Grade 11 enrollment change keeps increasing over time, how can this be explained?"
   ]
  },
  {
   "cell_type": "markdown",
   "id": "accompanied-learning",
   "metadata": {},
   "source": [
    "Other data sources to explores:\n",
    "- Employement rate: https://regionaldashboard.alberta.ca/#/explore-an-indicator?i=employment-rate&d=CalculatedValue\n",
    "- Median Family income: https://regionaldashboard.alberta.ca/#/explore-an-indicator?i=median-family-income&d=CalculatedValue\n",
    "- internet access across canada: https://open.alberta.ca/dataset/proportion-of-households-with-access-to-the-internet-for-canada-alberta-economic-regions-2010/resource/68e00a17-0f92-4da3-a774-6f585c2c5754"
   ]
  },
  {
   "cell_type": "code",
   "execution_count": null,
   "id": "closed-series",
   "metadata": {},
   "outputs": [],
   "source": []
  }
 ],
 "metadata": {
  "kernelspec": {
   "display_name": "Python [conda env:causal] *",
   "language": "python",
   "name": "conda-env-causal-py"
  },
  "language_info": {
   "codemirror_mode": {
    "name": "ipython",
    "version": 3
   },
   "file_extension": ".py",
   "mimetype": "text/x-python",
   "name": "python",
   "nbconvert_exporter": "python",
   "pygments_lexer": "ipython3",
   "version": "3.8.8"
  }
 },
 "nbformat": 4,
 "nbformat_minor": 5
}
